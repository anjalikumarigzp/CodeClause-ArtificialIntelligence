{
 "cells": [
  {
   "cell_type": "code",
   "execution_count": 13,
   "id": "ea9eb7c7-8dae-4359-a270-6407046da1cc",
   "metadata": {},
   "outputs": [],
   "source": [
    "import os"
   ]
  },
  {
   "cell_type": "code",
   "execution_count": 15,
   "id": "3da3c18e-58cf-4335-b742-dc2bd2a16ebd",
   "metadata": {},
   "outputs": [],
   "source": [
    "from sklearn.feature_extraction.text import TfidfVectorizer"
   ]
  },
  {
   "cell_type": "code",
   "execution_count": 16,
   "id": "0633cbf5-1f44-47be-9e2d-dd076e24ed1f",
   "metadata": {},
   "outputs": [],
   "source": [
    "from sklearn.metrics.pairwise import cosine_similarity"
   ]
  },
  {
   "cell_type": "code",
   "execution_count": 17,
   "id": "f6b67411-61ce-497b-a0d4-346ed11b6849",
   "metadata": {},
   "outputs": [],
   "source": [
    "student_files=[doc for doc in os.listdir() if doc.endswith('.txt')]"
   ]
  },
  {
   "cell_type": "code",
   "execution_count": 18,
   "id": "7114d717-8178-4eac-914c-10d156371463",
   "metadata": {},
   "outputs": [
    {
     "data": {
      "text/plain": [
       "['main.txt', 'sample1.txt', 'sample2.txt']"
      ]
     },
     "execution_count": 18,
     "metadata": {},
     "output_type": "execute_result"
    }
   ],
   "source": [
    "student_files"
   ]
  },
  {
   "cell_type": "code",
   "execution_count": 19,
   "id": "754ca42c-4b48-4154-9d0a-62bfbb1162d2",
   "metadata": {},
   "outputs": [],
   "source": [
    "student_notes=[open(_file,encoding='utf-8').read() for _file in student_files]"
   ]
  },
  {
   "cell_type": "code",
   "execution_count": 20,
   "id": "9b9f0ee7-cdc9-4a9b-99ff-eb03ace17125",
   "metadata": {},
   "outputs": [
    {
     "data": {
      "text/plain": [
       "['Python is an interpreted high-level general-purpose programming language. \\nIts design philosophy emphasizes code readability with its use of significant indentation. \\nIts language constructs as well as its object-oriented approach aim to help programmers write clear, \\nlogical code for small and large-scale projects.',\n",
       " \"What is Python? Executive Summary\\nPython is an interpreted, object-oriented, high-level programming \\nlanguage with dynamic semantics. Its high-level built in data structures, \\ncombined with dynamic typing and dynamic binding, make it very attractive for \\nRapid Application Development, as well as for use as a scripting or glue language to \\nconnect existing components together. Python's simple, easy to learn syntax emphasizes \\nreadability and therefore reduces the cost of program maintenance. Python supports modules \\nand packages, which encourages program modularity and code reuse. The Python interpreter and \\nthe extensive standard library are available in source or binary form without charge for all major platforms, \\nand can be freely distributed.\",\n",
       " \"Often, programmers fall in love with Python because of the increased \\nproductivity it provides. Since there is no compilation step, the edit-test-debug \\ncycle is incredibly fast. Debugging Python programs is easy: a bug or bad input will \\nnever cause a segmentation fault. Instead, when the interpreter discovers an error, \\nit raises an exception. When the program doesn't catch the exception, the interpreter \\nprints a stack trace. A source level debugger allows inspection of local and global variables, \\nevaluation of arbitrary expressions, setting breakpoints, stepping through the code a \\nline at a time, and so on. The debugger is written in Python itself, testifying to Python's \\nintrospective power. On the other hand, often the quickest way to debug a program is to add a \\nfew print statements to the source: the fast edit-test-debug cycle makes this simple approach very effective.\"]"
      ]
     },
     "execution_count": 20,
     "metadata": {},
     "output_type": "execute_result"
    }
   ],
   "source": [
    "student_notes"
   ]
  },
  {
   "cell_type": "code",
   "execution_count": 21,
   "id": "0f3e2159-44cc-4c2b-bb2c-96db29192cd8",
   "metadata": {},
   "outputs": [],
   "source": [
    "def vectorize(text):\n",
    "    return  TfidfVectorizer().fit_transform(text).toarray() "
   ]
  },
  {
   "cell_type": "code",
   "execution_count": 22,
   "id": "157e6700-3782-4298-a50f-d03fe968285f",
   "metadata": {},
   "outputs": [],
   "source": [
    "def similarity(doc1,doc2):\n",
    "    return cosine_similarity([doc1,doc2])"
   ]
  },
  {
   "cell_type": "code",
   "execution_count": 23,
   "id": "db252ddf-f4e8-4490-a356-93c8868ecae0",
   "metadata": {},
   "outputs": [],
   "source": [
    "vectors=vectorize(student_notes)"
   ]
  },
  {
   "cell_type": "code",
   "execution_count": 24,
   "id": "a74905ed-1427-4f7d-afb5-ad3910188f9f",
   "metadata": {},
   "outputs": [
    {
     "data": {
      "text/plain": [
       "array([[0.        , 0.15615794, 0.        , 0.        , 0.09222939,\n",
       "        0.09222939, 0.        , 0.11876214, 0.        , 0.        ,\n",
       "        0.23752428, 0.        , 0.        , 0.        , 0.        ,\n",
       "        0.        , 0.        , 0.        , 0.        , 0.        ,\n",
       "        0.        , 0.        , 0.        , 0.        , 0.        ,\n",
       "        0.        , 0.15615794, 0.18445879, 0.        , 0.        ,\n",
       "        0.        , 0.        , 0.15615794, 0.        , 0.        ,\n",
       "        0.        , 0.        , 0.        , 0.        , 0.15615794,\n",
       "        0.        , 0.        , 0.        , 0.        , 0.        ,\n",
       "        0.        , 0.        , 0.        , 0.11876214, 0.        ,\n",
       "        0.        , 0.        , 0.        , 0.        , 0.        ,\n",
       "        0.        , 0.        , 0.        , 0.        , 0.        ,\n",
       "        0.        , 0.11876214, 0.        , 0.        , 0.15615794,\n",
       "        0.        , 0.        , 0.        , 0.15615794, 0.11876214,\n",
       "        0.        , 0.        , 0.        , 0.15615794, 0.        ,\n",
       "        0.        , 0.        , 0.11876214, 0.        , 0.        ,\n",
       "        0.09222939, 0.        , 0.47504855, 0.        , 0.23752428,\n",
       "        0.15615794, 0.        , 0.09222939, 0.        , 0.        ,\n",
       "        0.        , 0.15615794, 0.        , 0.        , 0.        ,\n",
       "        0.        , 0.        , 0.        , 0.        , 0.        ,\n",
       "        0.        , 0.11876214, 0.09222939, 0.        , 0.        ,\n",
       "        0.        , 0.11876214, 0.        , 0.        , 0.15615794,\n",
       "        0.        , 0.        , 0.        , 0.        , 0.        ,\n",
       "        0.        , 0.11876214, 0.11876214, 0.        , 0.15615794,\n",
       "        0.        , 0.15615794, 0.09222939, 0.        , 0.        ,\n",
       "        0.        , 0.11876214, 0.        , 0.        , 0.15615794,\n",
       "        0.        , 0.        , 0.        , 0.        , 0.15615794,\n",
       "        0.        , 0.        , 0.15615794, 0.        , 0.        ,\n",
       "        0.        , 0.        , 0.        , 0.        , 0.        ,\n",
       "        0.        , 0.        , 0.        , 0.        , 0.        ,\n",
       "        0.        , 0.        , 0.        , 0.        , 0.        ,\n",
       "        0.        , 0.        , 0.09222939, 0.        , 0.        ,\n",
       "        0.        , 0.11876214, 0.        , 0.        , 0.        ,\n",
       "        0.11876214, 0.        , 0.        , 0.        , 0.        ,\n",
       "        0.09222939, 0.        , 0.15615794, 0.        ],\n",
       "       [0.        , 0.        , 0.0902525 , 0.        , 0.05330458,\n",
       "        0.31982749, 0.0902525 , 0.        , 0.        , 0.0902525 ,\n",
       "        0.20591806, 0.        , 0.0902525 , 0.0902525 , 0.        ,\n",
       "        0.0902525 , 0.        , 0.0902525 , 0.0902525 , 0.        ,\n",
       "        0.        , 0.0902525 , 0.0902525 , 0.        , 0.        ,\n",
       "        0.0902525 , 0.        , 0.05330458, 0.0902525 , 0.        ,\n",
       "        0.0902525 , 0.0902525 , 0.        , 0.0902525 , 0.        ,\n",
       "        0.0902525 , 0.        , 0.        , 0.        , 0.        ,\n",
       "        0.0902525 , 0.        , 0.0902525 , 0.        , 0.27075751,\n",
       "        0.06863935, 0.        , 0.        , 0.06863935, 0.0902525 ,\n",
       "        0.        , 0.        , 0.        , 0.0902525 , 0.0902525 ,\n",
       "        0.        , 0.0902525 , 0.        , 0.        , 0.        ,\n",
       "        0.        , 0.20591806, 0.0902525 , 0.0902525 , 0.        ,\n",
       "        0.        , 0.0902525 , 0.        , 0.        , 0.13727871,\n",
       "        0.13727871, 0.        , 0.        , 0.        , 0.        ,\n",
       "        0.        , 0.        , 0.06863935, 0.06863935, 0.        ,\n",
       "        0.10660916, 0.06863935, 0.06863935, 0.        , 0.13727871,\n",
       "        0.        , 0.0902525 , 0.10660916, 0.0902525 , 0.        ,\n",
       "        0.        , 0.        , 0.        , 0.0902525 , 0.0902525 ,\n",
       "        0.0902525 , 0.        , 0.0902525 , 0.0902525 , 0.        ,\n",
       "        0.        , 0.06863935, 0.05330458, 0.        , 0.        ,\n",
       "        0.13727871, 0.06863935, 0.        , 0.0902525 , 0.        ,\n",
       "        0.0902525 , 0.        , 0.        , 0.        , 0.        ,\n",
       "        0.13727871, 0.        , 0.06863935, 0.        , 0.        ,\n",
       "        0.        , 0.        , 0.26652291, 0.        , 0.        ,\n",
       "        0.0902525 , 0.06863935, 0.0902525 , 0.0902525 , 0.        ,\n",
       "        0.0902525 , 0.        , 0.0902525 , 0.        , 0.        ,\n",
       "        0.06863935, 0.        , 0.        , 0.        , 0.06863935,\n",
       "        0.        , 0.0902525 , 0.        , 0.        , 0.        ,\n",
       "        0.0902525 , 0.0902525 , 0.0902525 , 0.0902525 , 0.        ,\n",
       "        0.        , 0.20591806, 0.        , 0.0902525 , 0.        ,\n",
       "        0.        , 0.        , 0.10660916, 0.0902525 , 0.        ,\n",
       "        0.0902525 , 0.06863935, 0.        , 0.06863935, 0.        ,\n",
       "        0.06863935, 0.0902525 , 0.        , 0.0902525 , 0.        ,\n",
       "        0.10660916, 0.0902525 , 0.        , 0.        ],\n",
       "       [0.06548582, 0.        , 0.        , 0.06548582, 0.07735396,\n",
       "        0.07735396, 0.        , 0.04980365, 0.06548582, 0.        ,\n",
       "        0.        , 0.06548582, 0.        , 0.        , 0.06548582,\n",
       "        0.        , 0.06548582, 0.        , 0.        , 0.06548582,\n",
       "        0.06548582, 0.        , 0.        , 0.06548582, 0.06548582,\n",
       "        0.        , 0.        , 0.03867698, 0.        , 0.06548582,\n",
       "        0.        , 0.        , 0.        , 0.        , 0.13097164,\n",
       "        0.        , 0.19645745, 0.13097164, 0.06548582, 0.        ,\n",
       "        0.        , 0.06548582, 0.        , 0.06548582, 0.        ,\n",
       "        0.04980365, 0.13097164, 0.06548582, 0.        , 0.        ,\n",
       "        0.06548582, 0.06548582, 0.13097164, 0.        , 0.        ,\n",
       "        0.06548582, 0.        , 0.06548582, 0.13097164, 0.06548582,\n",
       "        0.06548582, 0.        , 0.        , 0.        , 0.        ,\n",
       "        0.06548582, 0.        , 0.06548582, 0.        , 0.        ,\n",
       "        0.09960731, 0.06548582, 0.06548582, 0.        , 0.06548582,\n",
       "        0.06548582, 0.06548582, 0.        , 0.09960731, 0.06548582,\n",
       "        0.1933849 , 0.09960731, 0.        , 0.06548582, 0.        ,\n",
       "        0.        , 0.        , 0.03867698, 0.        , 0.06548582,\n",
       "        0.06548582, 0.        , 0.06548582, 0.        , 0.        ,\n",
       "        0.        , 0.06548582, 0.        , 0.        , 0.06548582,\n",
       "        0.06548582, 0.        , 0.11603094, 0.13097164, 0.13097164,\n",
       "        0.04980365, 0.        , 0.06548582, 0.        , 0.        ,\n",
       "        0.        , 0.06548582, 0.06548582, 0.06548582, 0.06548582,\n",
       "        0.09960731, 0.04980365, 0.        , 0.06548582, 0.        ,\n",
       "        0.06548582, 0.        , 0.15470792, 0.06548582, 0.06548582,\n",
       "        0.        , 0.        , 0.        , 0.        , 0.        ,\n",
       "        0.        , 0.06548582, 0.        , 0.06548582, 0.        ,\n",
       "        0.04980365, 0.06548582, 0.        , 0.06548582, 0.09960731,\n",
       "        0.06548582, 0.        , 0.06548582, 0.06548582, 0.06548582,\n",
       "        0.        , 0.        , 0.        , 0.        , 0.13097164,\n",
       "        0.06548582, 0.59764383, 0.06548582, 0.        , 0.06548582,\n",
       "        0.06548582, 0.06548582, 0.15470792, 0.        , 0.06548582,\n",
       "        0.        , 0.        , 0.06548582, 0.04980365, 0.06548582,\n",
       "        0.        , 0.        , 0.13097164, 0.        , 0.06548582,\n",
       "        0.03867698, 0.        , 0.        , 0.06548582]])"
      ]
     },
     "execution_count": 24,
     "metadata": {},
     "output_type": "execute_result"
    }
   ],
   "source": [
    "vectors"
   ]
  },
  {
   "cell_type": "code",
   "execution_count": 25,
   "id": "eab72b0b-5277-4bcc-9dca-814ba974a967",
   "metadata": {},
   "outputs": [],
   "source": [
    "s_vectors=list(zip(student_files,vectors))"
   ]
  },
  {
   "cell_type": "code",
   "execution_count": 26,
   "id": "c3cdc9df-3a1e-4187-a81a-2338654865c9",
   "metadata": {},
   "outputs": [
    {
     "data": {
      "text/plain": [
       "[('main.txt',\n",
       "  array([0.        , 0.15615794, 0.        , 0.        , 0.09222939,\n",
       "         0.09222939, 0.        , 0.11876214, 0.        , 0.        ,\n",
       "         0.23752428, 0.        , 0.        , 0.        , 0.        ,\n",
       "         0.        , 0.        , 0.        , 0.        , 0.        ,\n",
       "         0.        , 0.        , 0.        , 0.        , 0.        ,\n",
       "         0.        , 0.15615794, 0.18445879, 0.        , 0.        ,\n",
       "         0.        , 0.        , 0.15615794, 0.        , 0.        ,\n",
       "         0.        , 0.        , 0.        , 0.        , 0.15615794,\n",
       "         0.        , 0.        , 0.        , 0.        , 0.        ,\n",
       "         0.        , 0.        , 0.        , 0.11876214, 0.        ,\n",
       "         0.        , 0.        , 0.        , 0.        , 0.        ,\n",
       "         0.        , 0.        , 0.        , 0.        , 0.        ,\n",
       "         0.        , 0.11876214, 0.        , 0.        , 0.15615794,\n",
       "         0.        , 0.        , 0.        , 0.15615794, 0.11876214,\n",
       "         0.        , 0.        , 0.        , 0.15615794, 0.        ,\n",
       "         0.        , 0.        , 0.11876214, 0.        , 0.        ,\n",
       "         0.09222939, 0.        , 0.47504855, 0.        , 0.23752428,\n",
       "         0.15615794, 0.        , 0.09222939, 0.        , 0.        ,\n",
       "         0.        , 0.15615794, 0.        , 0.        , 0.        ,\n",
       "         0.        , 0.        , 0.        , 0.        , 0.        ,\n",
       "         0.        , 0.11876214, 0.09222939, 0.        , 0.        ,\n",
       "         0.        , 0.11876214, 0.        , 0.        , 0.15615794,\n",
       "         0.        , 0.        , 0.        , 0.        , 0.        ,\n",
       "         0.        , 0.11876214, 0.11876214, 0.        , 0.15615794,\n",
       "         0.        , 0.15615794, 0.09222939, 0.        , 0.        ,\n",
       "         0.        , 0.11876214, 0.        , 0.        , 0.15615794,\n",
       "         0.        , 0.        , 0.        , 0.        , 0.15615794,\n",
       "         0.        , 0.        , 0.15615794, 0.        , 0.        ,\n",
       "         0.        , 0.        , 0.        , 0.        , 0.        ,\n",
       "         0.        , 0.        , 0.        , 0.        , 0.        ,\n",
       "         0.        , 0.        , 0.        , 0.        , 0.        ,\n",
       "         0.        , 0.        , 0.09222939, 0.        , 0.        ,\n",
       "         0.        , 0.11876214, 0.        , 0.        , 0.        ,\n",
       "         0.11876214, 0.        , 0.        , 0.        , 0.        ,\n",
       "         0.09222939, 0.        , 0.15615794, 0.        ])),\n",
       " ('sample1.txt',\n",
       "  array([0.        , 0.        , 0.0902525 , 0.        , 0.05330458,\n",
       "         0.31982749, 0.0902525 , 0.        , 0.        , 0.0902525 ,\n",
       "         0.20591806, 0.        , 0.0902525 , 0.0902525 , 0.        ,\n",
       "         0.0902525 , 0.        , 0.0902525 , 0.0902525 , 0.        ,\n",
       "         0.        , 0.0902525 , 0.0902525 , 0.        , 0.        ,\n",
       "         0.0902525 , 0.        , 0.05330458, 0.0902525 , 0.        ,\n",
       "         0.0902525 , 0.0902525 , 0.        , 0.0902525 , 0.        ,\n",
       "         0.0902525 , 0.        , 0.        , 0.        , 0.        ,\n",
       "         0.0902525 , 0.        , 0.0902525 , 0.        , 0.27075751,\n",
       "         0.06863935, 0.        , 0.        , 0.06863935, 0.0902525 ,\n",
       "         0.        , 0.        , 0.        , 0.0902525 , 0.0902525 ,\n",
       "         0.        , 0.0902525 , 0.        , 0.        , 0.        ,\n",
       "         0.        , 0.20591806, 0.0902525 , 0.0902525 , 0.        ,\n",
       "         0.        , 0.0902525 , 0.        , 0.        , 0.13727871,\n",
       "         0.13727871, 0.        , 0.        , 0.        , 0.        ,\n",
       "         0.        , 0.        , 0.06863935, 0.06863935, 0.        ,\n",
       "         0.10660916, 0.06863935, 0.06863935, 0.        , 0.13727871,\n",
       "         0.        , 0.0902525 , 0.10660916, 0.0902525 , 0.        ,\n",
       "         0.        , 0.        , 0.        , 0.0902525 , 0.0902525 ,\n",
       "         0.0902525 , 0.        , 0.0902525 , 0.0902525 , 0.        ,\n",
       "         0.        , 0.06863935, 0.05330458, 0.        , 0.        ,\n",
       "         0.13727871, 0.06863935, 0.        , 0.0902525 , 0.        ,\n",
       "         0.0902525 , 0.        , 0.        , 0.        , 0.        ,\n",
       "         0.13727871, 0.        , 0.06863935, 0.        , 0.        ,\n",
       "         0.        , 0.        , 0.26652291, 0.        , 0.        ,\n",
       "         0.0902525 , 0.06863935, 0.0902525 , 0.0902525 , 0.        ,\n",
       "         0.0902525 , 0.        , 0.0902525 , 0.        , 0.        ,\n",
       "         0.06863935, 0.        , 0.        , 0.        , 0.06863935,\n",
       "         0.        , 0.0902525 , 0.        , 0.        , 0.        ,\n",
       "         0.0902525 , 0.0902525 , 0.0902525 , 0.0902525 , 0.        ,\n",
       "         0.        , 0.20591806, 0.        , 0.0902525 , 0.        ,\n",
       "         0.        , 0.        , 0.10660916, 0.0902525 , 0.        ,\n",
       "         0.0902525 , 0.06863935, 0.        , 0.06863935, 0.        ,\n",
       "         0.06863935, 0.0902525 , 0.        , 0.0902525 , 0.        ,\n",
       "         0.10660916, 0.0902525 , 0.        , 0.        ])),\n",
       " ('sample2.txt',\n",
       "  array([0.06548582, 0.        , 0.        , 0.06548582, 0.07735396,\n",
       "         0.07735396, 0.        , 0.04980365, 0.06548582, 0.        ,\n",
       "         0.        , 0.06548582, 0.        , 0.        , 0.06548582,\n",
       "         0.        , 0.06548582, 0.        , 0.        , 0.06548582,\n",
       "         0.06548582, 0.        , 0.        , 0.06548582, 0.06548582,\n",
       "         0.        , 0.        , 0.03867698, 0.        , 0.06548582,\n",
       "         0.        , 0.        , 0.        , 0.        , 0.13097164,\n",
       "         0.        , 0.19645745, 0.13097164, 0.06548582, 0.        ,\n",
       "         0.        , 0.06548582, 0.        , 0.06548582, 0.        ,\n",
       "         0.04980365, 0.13097164, 0.06548582, 0.        , 0.        ,\n",
       "         0.06548582, 0.06548582, 0.13097164, 0.        , 0.        ,\n",
       "         0.06548582, 0.        , 0.06548582, 0.13097164, 0.06548582,\n",
       "         0.06548582, 0.        , 0.        , 0.        , 0.        ,\n",
       "         0.06548582, 0.        , 0.06548582, 0.        , 0.        ,\n",
       "         0.09960731, 0.06548582, 0.06548582, 0.        , 0.06548582,\n",
       "         0.06548582, 0.06548582, 0.        , 0.09960731, 0.06548582,\n",
       "         0.1933849 , 0.09960731, 0.        , 0.06548582, 0.        ,\n",
       "         0.        , 0.        , 0.03867698, 0.        , 0.06548582,\n",
       "         0.06548582, 0.        , 0.06548582, 0.        , 0.        ,\n",
       "         0.        , 0.06548582, 0.        , 0.        , 0.06548582,\n",
       "         0.06548582, 0.        , 0.11603094, 0.13097164, 0.13097164,\n",
       "         0.04980365, 0.        , 0.06548582, 0.        , 0.        ,\n",
       "         0.        , 0.06548582, 0.06548582, 0.06548582, 0.06548582,\n",
       "         0.09960731, 0.04980365, 0.        , 0.06548582, 0.        ,\n",
       "         0.06548582, 0.        , 0.15470792, 0.06548582, 0.06548582,\n",
       "         0.        , 0.        , 0.        , 0.        , 0.        ,\n",
       "         0.        , 0.06548582, 0.        , 0.06548582, 0.        ,\n",
       "         0.04980365, 0.06548582, 0.        , 0.06548582, 0.09960731,\n",
       "         0.06548582, 0.        , 0.06548582, 0.06548582, 0.06548582,\n",
       "         0.        , 0.        , 0.        , 0.        , 0.13097164,\n",
       "         0.06548582, 0.59764383, 0.06548582, 0.        , 0.06548582,\n",
       "         0.06548582, 0.06548582, 0.15470792, 0.        , 0.06548582,\n",
       "         0.        , 0.        , 0.06548582, 0.04980365, 0.06548582,\n",
       "         0.        , 0.        , 0.13097164, 0.        , 0.06548582,\n",
       "         0.03867698, 0.        , 0.        , 0.06548582]))]"
      ]
     },
     "execution_count": 26,
     "metadata": {},
     "output_type": "execute_result"
    }
   ],
   "source": [
    "s_vectors"
   ]
  },
  {
   "cell_type": "code",
   "execution_count": 35,
   "id": "4b245139-b31d-4223-af99-ae37164c383e",
   "metadata": {},
   "outputs": [],
   "source": [
    "plagiarism_results=set()"
   ]
  },
  {
   "cell_type": "code",
   "execution_count": 41,
   "id": "6f3e605e-a928-4834-9ff3-3e196a1de134",
   "metadata": {},
   "outputs": [],
   "source": [
    "def check_plagiarism():\n",
    "    global s_vectors\n",
    "    for student_a,text_vector_a in s_vectors:\n",
    "        new_vectors=s_vectors.copy()\n",
    "        current_index=new_vectors.index((student_a,text_vector_a))\n",
    "        print(current_index)\n",
    "        del new_vectors[current_index]\n",
    "        for student_b,text_vector_b in new_vectors:\n",
    "            sim_score=similarity(text_vector_a,text_vector_b)[0][1]\n",
    "            print(similarity(text_vector_a,text_vector_b)[0][1])\n",
    "            student_pair=sorted((student_a,student_b))\n",
    "            #print(similarity(text_vector_a,text_vector_b))\n",
    "            #print(student_pair)\n",
    "            score=(student_pair[0],student_pair[1],sim_score)\n",
    "            plagiarism_results.add(score)\n",
    "    return plagiarism_results"
   ]
  },
  {
   "cell_type": "code",
   "execution_count": 42,
   "id": "fc6c4bf9-d8fa-46e4-9d28-fdb8c7898871",
   "metadata": {},
   "outputs": [
    {
     "name": "stdout",
     "output_type": "stream",
     "text": [
      "0\n",
      "0.3331711597591327\n",
      "0.09744128144094077\n",
      "1\n",
      "0.3331711597591327\n",
      "0.31171659447103695\n",
      "2\n",
      "0.09744128144094077\n",
      "0.31171659447103695\n",
      "('main.txt', 'main.txt', 1.0)\n",
      "('main.txt', 'sample1.txt', 0.3331711597591327)\n",
      "('sample2.txt', 'sample2.txt', 1.0)\n",
      "('sample1.txt', 'sample1.txt', 0.9999999999999998)\n",
      "('sample1.txt', 'sample2.txt', 0.31171659447103695)\n",
      "('main.txt', 'sample2.txt', 0.09744128144094077)\n"
     ]
    }
   ],
   "source": [
    "for data in check_plagiarism():\n",
    "    print(data)"
   ]
  },
  {
   "cell_type": "code",
   "execution_count": null,
   "id": "9e8c3f8e-b8e6-472e-a4a8-04cc5117efce",
   "metadata": {},
   "outputs": [],
   "source": []
  }
 ],
 "metadata": {
  "kernelspec": {
   "display_name": "Python 3 (ipykernel)",
   "language": "python",
   "name": "python3"
  },
  "language_info": {
   "codemirror_mode": {
    "name": "ipython",
    "version": 3
   },
   "file_extension": ".py",
   "mimetype": "text/x-python",
   "name": "python",
   "nbconvert_exporter": "python",
   "pygments_lexer": "ipython3",
   "version": "3.11.5"
  }
 },
 "nbformat": 4,
 "nbformat_minor": 5
}
